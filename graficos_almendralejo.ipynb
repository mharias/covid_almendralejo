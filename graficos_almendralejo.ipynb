{
 "cells": [
  {
   "cell_type": "markdown",
   "metadata": {},
   "source": [
    "# Objetivo"
   ]
  },
  {
   "cell_type": "markdown",
   "metadata": {},
   "source": [
    "En este trabajo vamos a analizar los datos epidemiológicos generados para Almendralejo por la Comunidad Extremadura desde aquí [fuente](https://saludextremadura.ses.es/web/casospositivos). Siguiendo los procesos estándares descargaremos los datos desde gitub, analizaremos los campos y prepararemos una serie de gráficas que añadan aunque sea un poco de información a lo que está ocurriendo."
   ]
  },
  {
   "cell_type": "markdown",
   "metadata": {},
   "source": [
    "\n",
    "@author: Manuel H. Arias \n",
    "\n",
    "@Twitter: @walyt\n",
    "\n",
    "@mail: mharias@me.com\n",
    "\n"
   ]
  },
  {
   "cell_type": "markdown",
   "metadata": {},
   "source": [
    "## Importación de librerias estándares para DAE"
   ]
  },
  {
   "cell_type": "code",
   "execution_count": null,
   "metadata": {},
   "outputs": [],
   "source": [
    "import pandas as pd\n",
    "\n",
    "import matplotlib.pyplot as plt\n",
    "\n",
    "from matplotlib.ticker import FuncFormatter\n",
    "from matplotlib import cm\n",
    "import matplotlib.dates as mdates\n",
    "import matplotlib.ticker as ticker\n",
    "from matplotlib.dates import (YEARLY, MONTHLY, DateFormatter, MonthLocator,DayLocator,\n",
    "                              rrulewrapper, WeekdayLocator,RRuleLocator, drange)\n",
    "import matplotlib.image as mpimg\n",
    "from matplotlib.animation import FuncAnimation\n",
    "from matplotlib.offsetbox import TextArea, DrawingArea, OffsetImage, AnnotationBbox\n",
    "import matplotlib.colors as colors\n",
    "\n",
    "import numpy as np\n",
    "from datetime import datetime,timedelta\n",
    "import seaborn as sns\n",
    "%matplotlib inline\n",
    "\n",
    "import urllib.request\n",
    "\n",
    "import matplotlib.image as mpimg\n",
    "from matplotlib.animation import FuncAnimation\n",
    "from matplotlib.offsetbox import TextArea, DrawingArea, OffsetImage, AnnotationBbox"
   ]
  },
  {
   "cell_type": "markdown",
   "metadata": {},
   "source": [
    "## Descargamos la información"
   ]
  },
  {
   "cell_type": "markdown",
   "metadata": {},
   "source": [
    "Hacemos en primer lugar una actualización de parámetros y preparación de variables que necesitaremos durante el ejercicio"
   ]
  },
  {
   "cell_type": "code",
   "execution_count": null,
   "metadata": {},
   "outputs": [],
   "source": [
    "pd.options.display.max_rows = 999 #Variable de contexto para permitir la presentación de datos por pantalla\n",
    "pd.set_option('display.max_columns', None)"
   ]
  },
  {
   "cell_type": "code",
   "execution_count": null,
   "metadata": {},
   "outputs": [],
   "source": [
    "#url de la fuente de datos\n",
    "path_fuente_datos='datos/almendralejo.xlsx'\n",
    "path_fuente_datos_github='https://github.com/mharias/covid_almendralejo/blob/main/datos/almendralejo.csv?raw=true'\n",
    "#path_fuente_datos_github_csv='https://github.com/mharias/covid_almendralejo/blob/main/datos/covid_almendralejo.csv?raw=true'\n",
    "\n",
    "poblacion_almendralejo = 33474 #https://es.wikipedia.org/wiki/Almendralejo\n"
   ]
  },
  {
   "cell_type": "markdown",
   "metadata": {},
   "source": [
    "Leemos los datos en un `pandas`"
   ]
  },
  {
   "cell_type": "code",
   "execution_count": null,
   "metadata": {},
   "outputs": [],
   "source": [
    "datos = pd.read_csv(path_fuente_datos_github,sep=',')"
   ]
  },
  {
   "cell_type": "code",
   "execution_count": null,
   "metadata": {},
   "outputs": [],
   "source": [
    "datos"
   ]
  },
  {
   "cell_type": "code",
   "execution_count": null,
   "metadata": {},
   "outputs": [],
   "source": [
    "#datos = pd.read_excel(path_fuente_datos,skiprows=2)"
   ]
  },
  {
   "cell_type": "markdown",
   "metadata": {},
   "source": [
    "veamos una rápida descripción de la información:"
   ]
  },
  {
   "cell_type": "markdown",
   "metadata": {},
   "source": [
    "y un muestreo de valores y de algunas columnas de interés:"
   ]
  },
  {
   "cell_type": "code",
   "execution_count": null,
   "metadata": {},
   "outputs": [],
   "source": [
    "datos.tail()"
   ]
  },
  {
   "cell_type": "code",
   "execution_count": null,
   "metadata": {},
   "outputs": [],
   "source": [
    "datos['date']=pd.to_datetime(datos['date'],format='%Y-%m-%d')"
   ]
  },
  {
   "cell_type": "code",
   "execution_count": null,
   "metadata": {},
   "outputs": [],
   "source": [
    "datos['media_7']=datos['Casos positivos'].rolling(window=7).mean().round()"
   ]
  },
  {
   "cell_type": "code",
   "execution_count": null,
   "metadata": {},
   "outputs": [],
   "source": [
    "datos['ia14'] = datos['Casos positivos'].rolling(window=14).sum()/poblacion_almendralejo*100000"
   ]
  },
  {
   "cell_type": "code",
   "execution_count": null,
   "metadata": {},
   "outputs": [],
   "source": [
    "datos['ia_ratio'] = datos['ia14'].pct_change(periods=7).add(1)"
   ]
  },
  {
   "cell_type": "code",
   "execution_count": null,
   "metadata": {},
   "outputs": [],
   "source": [
    "datos.tail(19)"
   ]
  },
  {
   "cell_type": "markdown",
   "metadata": {},
   "source": [
    "# Gráficos"
   ]
  },
  {
   "cell_type": "markdown",
   "metadata": {},
   "source": [
    " A continuación vamos a crear un gráfico múltiple que nos permita visualizar cada una de las columnas con datos numéricos. Ello nos permitirá"
   ]
  },
  {
   "cell_type": "markdown",
   "metadata": {},
   "source": [
    "Una vez analizadas cada una de las columnas de datos podremos elegir las que queremos presentar.."
   ]
  },
  {
   "cell_type": "markdown",
   "metadata": {},
   "source": [
    "Preparemos un gráfico tipo [Facetgrid](https://seaborn.pydata.org/generated/seaborn.FacetGrid.html), al que añadiremos tantos gráficos como provincias, presentando una de las columnas de datos. Elegimos nº de hospitalizados por 100.000 habitantes. Dejo otras claves con `#` para que fácilmente se puedan generar. Este ejemplo esta basado en el código del link anterior."
   ]
  },
  {
   "cell_type": "code",
   "execution_count": null,
   "metadata": {},
   "outputs": [],
   "source": [
    "sns.set(style=\"white\",rc={\"axes.facecolor\": (0, 0, 0, 0)})\n",
    "\n",
    "# Preparamos los datos. Es importante añadir un zero a los campos NotANumber..\n",
    "\n",
    "\n",
    "clave_avg='daily_cases_PCR_avg7'\n",
    "clave_ratio_avg = 'ratio_daily_cases_PCR_avg7'\n",
    "color_ratio = 'red'\n",
    "color_fill = 'royalblue'\n",
    "color_titulos = 'navy'\n",
    "color_linea='darkred'\n",
    "clave_ratio = 'ia_ratio'\n",
    "IA='ia14'\n",
    "avg='media_7'\n",
    "\n",
    "casos_nuevos='Casos positivos'\n",
    "activos='Activos'\n",
    "\n",
    "ventana_IA=14\n",
    "titulo_positivos  = 'Almendralejo: casos positivos comunicados diarios y media 7 días'\n",
    "titulo_activos = 'Almendralejo: casos activos comunicados'\n",
    "titulo_IA='Almendralejo: IA14, casos acumulados de los últimos 14 días por 100.000 habitantes\\n\\\n",
    "En rojo ratio de la IA14 con respecto a la de 7 días anteriores.'\n",
    "fuente_positivos='Salud, Junta Extremadura'\n",
    "path_fuente_positivos='https://saludextremadura.ses.es/web/casospositivos'\n",
    "\n",
    "fuente_activos='Ayto Almendralejo'\n",
    "path_fuente_activos='https://www.almendralejo.es/noticias.php'\n",
    "\n",
    "autor='@walyt'\n",
    "\n",
    "\n",
    "y_IA='IA a 14 días'\n",
    "y_ratio='Ratio a 7 días'\n",
    "path='graficos/'\n",
    "    \n"
   ]
  },
  {
   "cell_type": "code",
   "execution_count": null,
   "metadata": {},
   "outputs": [],
   "source": [
    "colores = sns.color_palette(\"Blues_r\", 5)\n",
    "colores = sns.color_palette('mako', 5)\n",
    "plt.style.use('seaborn-white')\n",
    "#f.suptitle(titulo,fontsize=20,x=0.5,y=1,color=color_titulos)\n",
    "f = plt.figure(figsize=(10,5))\n",
    "ax1 = f.add_subplot(1,1,1,)\n",
    "\n",
    "\n",
    "#colors = cm.RdYlBu_r(datos[casos_nuevos]/datos[casos_nuevos].max())\n",
    "colors = cm.Blues(datos[casos_nuevos]/datos[casos_nuevos].max())\n",
    "\n",
    "\n",
    "barras = ax1.bar(datos['date'],datos[casos_nuevos],color=colors)\n",
    "ax1.plot(datos['date'],datos[avg],color='orange',lw=2,label='media 7 días')\n",
    "\n",
    "ax1.yaxis.set_tick_params(labelsize=16,labelcolor='navy')\n",
    "ax1.xaxis.set_tick_params(labelsize=10,labelcolor='navy',width=0,rotation=60)\n",
    "ax1.set_title(titulo_positivos,size=20,color='navy')\n",
    "\n",
    "for barra in barras:\n",
    "    height = barra.get_height()\n",
    "    ax1.text(barra.get_x() + barra.get_width()/2., 1*height,\n",
    "            '%d' % int(height),ha='center',fontsize=6, va='bottom',color='navy')\n",
    "\n",
    "\n",
    "\n",
    "\n",
    "fmt = '%.0f' # Format you want the ticks, e.g. '40%'\n",
    "yticks = ticker.FormatStrFormatter(fmt)\n",
    "ax1.yaxis.set_major_formatter(yticks)\n",
    "#ax1.set_yticks([0,10,20,30,40,50,60,70,80,90,100])\n",
    "\n",
    "XmajorFmt = DateFormatter('%-d-%b')\n",
    "ax1.xaxis.set_major_formatter(XmajorFmt)\n",
    "ax1.xaxis.set_major_locator(WeekdayLocator([datetime.today().weekday()])) #incluye hoy y 7 antes\n",
    "ax1.set_xticks(ax1.get_xticks()[:])\n",
    "\n",
    "legend = ax1.legend(framealpha=0,fancybox=True,fontsize='x-large')\n",
    "plt.setp(legend.get_texts(), color='navy')\n",
    "\n",
    "ax1.grid(True,axis='y')\n",
    "f.text(0.1, 0.01, 'Data Source:{} {}'.format(fuente_positivos,path_fuente_positivos), horizontalalignment='left',\n",
    "     verticalalignment='center', fontsize=14,color=color_titulos)\n",
    "f.text(0.9,0.01,'{}'.format(autor),\n",
    "         verticalalignment='center',fontsize=14,horizontalalignment='left',color=color_titulos)\n",
    "[spine.set_visible(False) for spine in ax1.spines.values()]\n",
    "#f.tight_layout(w_pad=0,h_pad=5,pad=1)\n",
    "\n",
    "f.tight_layout()\n",
    "f.savefig('graficos/almendralejo_nuevos_casos.png',dpi=200,bbox_inches='tight')"
   ]
  },
  {
   "cell_type": "code",
   "execution_count": null,
   "metadata": {},
   "outputs": [],
   "source": [
    "colores = sns.color_palette(\"Blues_r\", 5)\n",
    "\n",
    "plt.style.use('seaborn-white')\n",
    "#f.suptitle(titulo,fontsize=20,x=0.5,y=1,color=color_titulos)\n",
    "f = plt.figure(figsize=(10,5))\n",
    "ax1 = f.add_subplot(1,1,1,)\n",
    "\n",
    "\n",
    "colors = cm.RdYlBu_r(datos[casos_nuevos]/datos[casos_nuevos].max())\n",
    "\n",
    "colors='navy'\n",
    "barras = ax1.bar(datos['date'],datos[activos],color=colors)\n",
    "#ax1.plot(datos['date'],datos[avg],color='navy',lw=3,label='media 7 días')\n",
    "\n",
    "ax1.yaxis.set_tick_params(labelsize=16,labelcolor='navy')\n",
    "ax1.xaxis.set_tick_params(labelsize=10,labelcolor='navy',width=0)\n",
    "ax1.set_title(titulo_activos,size=20,color='navy')\n",
    "lista_xticks=[]\n",
    "for barra in barras:\n",
    "    height = barra.get_height()\n",
    "    try: \n",
    "        ax1.text(barra.get_x() + barra.get_width()/2., 1*height,'%d' % int(height),ha='center',fontsize=16, va='bottom',color='navy')\n",
    "        lista_xticks.append(barra.get_x())\n",
    "    except:\n",
    "        continue\n",
    "\n",
    "fmt = '%.0f' # Format you want the ticks, e.g. '40%'\n",
    "yticks = ticker.FormatStrFormatter(fmt)\n",
    "ax1.yaxis.set_major_formatter(yticks)\n",
    "#ax1.set_yticks([0,10,20,30,40,50,60,70,80,90,100])\n",
    "\n",
    "XmajorFmt = DateFormatter('%-d-%b')\n",
    "ax1.xaxis.set_major_formatter(XmajorFmt)\n",
    "#ax1.xaxis.set_major_locator(WeekdayLocator([0]))\n",
    "#ax1.set_xticks(ax1.get_xticks()[1:-1])\n",
    "ax1.set_xticks(lista_xticks)\n",
    "\n",
    "\n",
    "legend = ax1.legend(framealpha=0,fancybox=True,fontsize='x-large')\n",
    "plt.setp(legend.get_texts(), color='navy')\n",
    "\n",
    "ax1.grid(True,axis='y')\n",
    "f.text(0.1, -0.0, 'Data Source:{} {}'.format(fuente_activos,path_fuente_activos), horizontalalignment='left',\n",
    "     verticalalignment='center', fontsize=12,color=color_titulos)\n",
    "f.text(0.1,-0.05,'{}'.format(autor),\n",
    "         fontsize=12,horizontalalignment='left',color=color_titulos)\n",
    "f.text(0.1,-0.1,'No se han encontrado datos para las fechas vacías'.format(autor),\n",
    "         fontsize=12,horizontalalignment='left',color=color_titulos)\n",
    "\n",
    "[spine.set_visible(False) for spine in ax1.spines.values()]\n",
    "f.tight_layout(w_pad=0,h_pad=2,pad=1)\n",
    "\n",
    "#f.tight_layout()\n",
    "f.savefig('graficos/almendralejo_activos.png',dpi=200,bbox_inches='tight')"
   ]
  },
  {
   "cell_type": "code",
   "execution_count": null,
   "metadata": {},
   "outputs": [],
   "source": [
    "colores = sns.color_palette(\"Blues_r\", 5)\n",
    "\n",
    "plt.style.use('seaborn-white')\n",
    "#f.suptitle(titulo,fontsize=20,x=0.5,y=1,color=color_titulos)\n",
    "f = plt.figure(figsize=(10,5))\n",
    "ax1 = f.add_subplot(1,1,1,)\n",
    "\n",
    "\n",
    "colors = cm.RdYlBu_r(datos[casos_nuevos]/datos[casos_nuevos].max())\n",
    "\n",
    "\n",
    "ax1.bar(datos['date'],datos[IA],color='navy',lw=3,alpha=.3)\n",
    "\n",
    "ax1.yaxis.set_tick_params(labelsize=12,labelcolor='navy')\n",
    "ax1.xaxis.set_tick_params(labelsize=10,labelcolor='navy',width=0)\n",
    "ax1.set_title(titulo_IA,size=20,color='navy')\n",
    "\n",
    "\n",
    "\n",
    "fmt = '%00.0f' # Format you want the ticks, e.g. '40%'\n",
    "yticks = ticker.FormatStrFormatter(fmt)\n",
    "ax1.yaxis.set_major_formatter(yticks)\n",
    "#ax1.set_yticks([0,10,20,30,40,50,60,70,80,90,100])\n",
    "\n",
    "XmajorFmt = DateFormatter('%-d-%b')\n",
    "ax1.xaxis.set_major_formatter(XmajorFmt)\n",
    "ax1.xaxis.set_major_locator(WeekdayLocator([0,4]))\n",
    "#ax1.set_xticks(ax1.get_xticks()[1:-1])\n",
    "\n",
    "legend = ax1.legend(framealpha=0,fancybox=True,fontsize='x-large')\n",
    "plt.setp(legend.get_texts(), color='navy')\n",
    "\n",
    "ax1.grid(True,axis='y')\n",
    "\n",
    "ax2 = ax1.twinx()\n",
    "ax2.scatter(datos['date'],datos[clave_ratio],color='red',lw=3,label='ratio ia14 a 7 días')\n",
    "ax2.xaxis.set_tick_params(labelsize=10,labelcolor='navy',width=0)\n",
    "ax2.yaxis.set_tick_params(labelsize=12,labelcolor='red',width=0)\n",
    "XmajorFmt = DateFormatter('%-d-%b')\n",
    "ax2.xaxis.set_major_formatter(XmajorFmt)\n",
    "ax2.xaxis.set_major_locator(WeekdayLocator([0]))\n",
    "ax2.set_ylim(0,2)\n",
    "f.text(0.1, 0.01, 'Data Source:{} {}'.format(fuente_positivos,path_fuente_positivos), horizontalalignment='left',\n",
    "     verticalalignment='center', fontsize=12,color=color_titulos)\n",
    "f.text(0.9,+0.01,'{}'.format(autor),\n",
    "         fontsize=12,horizontalalignment='left',color=color_titulos)\n",
    "[spine.set_visible(False) for spine in ax1.spines.values()]\n",
    "f.tight_layout(w_pad=0,h_pad=2,pad=1)\n",
    "\n",
    "#f.tight_layout()\n",
    "f.savefig('graficos/almendralejo_ia14.png',dpi=200,bbox_inches='tight')"
   ]
  },
  {
   "cell_type": "code",
   "execution_count": null,
   "metadata": {},
   "outputs": [],
   "source": [
    "datos.to_csv('datos/almendralejo.csv',index=False,sep=',')"
   ]
  },
  {
   "cell_type": "code",
   "execution_count": null,
   "metadata": {},
   "outputs": [],
   "source": [
    "def grafico_EPG(datos):\n",
    "    \n",
    "    IA14='ia14'\n",
    "    casos='Casos positivos'\n",
    "    p7 = 'p7_avg7'\n",
    "    fecha = 'date'\n",
    "    titulo = 'Evolución de Empiric Potential Growth en {}\\n'.format('Almendralejo') \n",
    "    fuente_modelo = 'Fuente del modelo @biocomsc \\n'  \n",
    "    titulo = titulo + fuente_modelo\n",
    "    un_dia=timedelta(days=1)\n",
    "    dos_dias=timedelta(days=2)\n",
    "    cinco_dias=timedelta(days=5)\n",
    "    seis_dias=timedelta(days=6)\n",
    "    cuatro_dias=timedelta(days=4)\n",
    "    path='graficos/'\n",
    "    nombre_fichero=path+'EPG_de_{}'.format('Almendralejo')\n",
    "    \n",
    "    def calculo_p7(x):\n",
    "        fecha_actual=x['date']\n",
    "        try:\n",
    "            valor = (datos.loc[datos['date']==fecha_actual+un_dia,casos].values[0]+\\\n",
    "            datos.loc[datos['date']==(fecha_actual),casos].values[0]+\\\n",
    "            datos.loc[datos['date']==(fecha_actual-un_dia),casos].values[0])/\\\n",
    "            (datos.loc[datos['date']==(fecha_actual-cuatro_dias),casos].values[0]+\\\n",
    "             datos.loc[datos['date']==(fecha_actual-seis_dias),casos].values[0]+\\\n",
    "             datos.loc[datos['date']==(fecha_actual-cinco_dias),casos].values[0])\n",
    "        except:\n",
    "            valor = np.NaN\n",
    "        return valor\n",
    "    \n",
    "    datos[p7] = datos.apply(calculo_p7,axis=1)\n",
    "    datos[p7] = datos[p7].rolling(window=7).mean()\n",
    "    datos = datos.reset_index()\n",
    "    datos = datos.drop(['index'],axis=1)\n",
    "    datos=datos[[fecha,IA14,p7]]\n",
    "    \n",
    "    color_rojo = 'red'\n",
    "    color_verde = 'green'\n",
    "    color_amarillo = 'yellow'\n",
    "    colores = sns.color_palette(\"Blues\",datos.shape[0])[::]\n",
    "    color_texto = 'navy'\n",
    "    eje_X = ' Incidencia Acumulada a 14 días'\n",
    "    eje_Y = 'Parámetro \\u03C1'+'7'\n",
    "\n",
    "    fuente_modelo = 'https://biocomsc.upc.edu/en/shared/20200412_report_web_27.pdf'\n",
    "\n",
    "\n",
    "    x_max = round((datos[IA14].max()//100+1)*100,-2)\n",
    "    y_max = min(3,round(datos[p7].max(),1))\n",
    "    rango = np.arange(1,x_max,1)\n",
    "\n",
    "    fig,ax = plt.subplots(figsize=(10, 5), dpi=144)\n",
    "    ax.set_xlim(0,x_max)\n",
    "    ax.set_ylim(0,y_max)\n",
    "    ax.grid(False,axis='both')\n",
    "  \n",
    "    ax.set_ylabel(eje_Y,size=14,color='black')\n",
    "    ax.set_xlabel(eje_X,size=14,color='black')\n",
    "    rango=np.arange(0,x_max,1)\n",
    "    \n",
    "    ax.fill_between(rango, 0, 30/rango,\n",
    "                     facecolor=\"blue\", # The fill color\n",
    "                 color=color_verde,       # The outline color\n",
    "                 alpha=0.5) \n",
    "    ax.fill_between(rango, 30/rango, 100/rango,\n",
    "                 facecolor='blue', # The fill color\n",
    "                 color=color_amarillo,       # The outline color\n",
    "                 alpha=0.5) \n",
    "    ax.fill_between(rango,100/rango,10,\n",
    "                 facecolor=\"blue\", # The fill color\n",
    "                 color=color_rojo,       # The outline color\n",
    "                 alpha=0.5)\n",
    "    \n",
    "    ax.set_title(titulo, fontsize=12)\n",
    "\n",
    "    ax.scatter(datos[IA14],datos[p7],color=colores,marker='o',\n",
    "               s=2)\n",
    "\n",
    "    x_init,y_init = datos.iloc[8][[IA14,p7]]\n",
    "    for i in range(0,datos.shape[0]):\n",
    "        ax.plot(datos.loc[i:i+1,IA14],datos.loc[i:i+1][p7],\n",
    "            color=colores[::][i],lw=2,scaley=False)\n",
    "\n",
    "        style = dict(size=8, color=colores[i],weight='bold')\n",
    "        if (i==7) | (i % 7 == 0) | (i==(datos.shape[0]-2)):\n",
    "            texto = ax.annotate(datos.loc[i,fecha].strftime('%d-%b'),\n",
    "                                xy=(datos.loc[i,IA14],datos.loc[i,p7]),\n",
    "                                xycoords='data',\n",
    "                                xytext=(-20, 10), \n",
    "                                textcoords='offset points',\n",
    "                                **style)\n",
    "    plt.savefig(nombre_fichero,dpi=144)  \n",
    "    plt.show()\n",
    "    return "
   ]
  },
  {
   "cell_type": "code",
   "execution_count": null,
   "metadata": {
    "scrolled": true
   },
   "outputs": [],
   "source": [
    "grafico_EPG(datos)"
   ]
  },
  {
   "cell_type": "code",
   "execution_count": null,
   "metadata": {},
   "outputs": [],
   "source": []
  },
  {
   "cell_type": "code",
   "execution_count": null,
   "metadata": {},
   "outputs": [],
   "source": [
    "colores = sns.color_palette(\"Blues_r\", 5)\n",
    "\n",
    "plt.style.use('seaborn-white')\n",
    "#f.suptitle(titulo,fontsize=20,x=0.5,y=1,color=color_titulos)\n",
    "f = plt.figure(figsize=(10,5))\n",
    "ax1 = f.add_subplot(1,1,1,)\n",
    "\n",
    "\n",
    "colors = cm.RdYlBu_r(datos[casos_nuevos]/datos[casos_nuevos].max())\n",
    "\n",
    "\n",
    "ax1.fill_between(datos['date'],datos[IA],color='navy',lw=5,alpha=.3)\n",
    "\n",
    "ax1.yaxis.set_tick_params(labelsize=20,labelcolor='navy')\n",
    "ax1.xaxis.set_tick_params(labelsize=14,rotation=45,labelcolor='navy',width=0)\n",
    "ax1.set_title(titulo_IA,size=20,color='navy')\n",
    "\n",
    "\n",
    "\n",
    "fmt = '%00.0f' # Format you want the ticks, e.g. '40%'\n",
    "yticks = ticker.FormatStrFormatter(fmt)\n",
    "ax1.yaxis.set_major_formatter(yticks)\n",
    "#ax1.set_yticks([0,10,20,30,40,50,60,70,80,90,100])\n",
    "\n",
    "XmajorFmt = DateFormatter('%-d-%b')\n",
    "ax1.xaxis.set_major_formatter(XmajorFmt)\n",
    "ax1.xaxis.set_major_locator(WeekdayLocator([0,4]))\n",
    "#ax1.set_xticks(ax1.get_xticks()[1:-1])\n",
    "\n",
    "legend = ax1.legend(framealpha=0,fancybox=True,fontsize='x-large')\n",
    "plt.setp(legend.get_texts(), color='navy')\n",
    "\n",
    "ax1.grid(True,axis='both')\n",
    "\n",
    "ax2 = ax1.twinx()\n",
    "ax2.plot(datos['date'],datos[clave_ratio],color='red',lw=.5,label='ratio ia14 a 7 días')\n",
    "ax2.xaxis.set_tick_params(labelsize=10,labelcolor='navy',width=0)\n",
    "ax2.yaxis.set_tick_params(labelsize=20,labelcolor='red',width=0)\n",
    "XmajorFmt = DateFormatter('%-d-%b')\n",
    "ax2.xaxis.set_major_formatter(XmajorFmt)\n",
    "ax2.xaxis.set_major_locator(DayLocator([1,10,20]))\n",
    "ax2.set_ylim(0,2)\n",
    "style = dict(size=20, color=color_titulos,weight='normal')\n",
    "texto = ax1.annotate('{:0.0f}'.format(datos.iloc[-1][IA]),\n",
    "                            xy=(datos.iloc[-1]['date'],datos.iloc[-1][IA]),\n",
    "                            xycoords='data',\n",
    "                            xytext=(0, 0), \n",
    "                            textcoords='offset points',\n",
    "                            **style)\n",
    "\n",
    "f.text(0.1, 0.01, 'Data Source:{} {}'.format(fuente_positivos,path_fuente_positivos), horizontalalignment='left',\n",
    "     verticalalignment='center', fontsize=12,color=color_titulos)\n",
    "f.text(0.9,+0.01,'{}'.format(autor),\n",
    "         fontsize=12,horizontalalignment='left',color=color_titulos)\n",
    "[spine.set_visible(False) for spine in ax1.spines.values()]\n",
    "[spine.set_visible(False) for spine in ax2.spines.values()]\n",
    "f.tight_layout(w_pad=0,h_pad=2,pad=1)\n",
    "\n",
    "#f.tight_layout()\n",
    "f.savefig('graficos/almendralejo_ia14.png',dpi=200,bbox_inches='tight')"
   ]
  },
  {
   "cell_type": "code",
   "execution_count": null,
   "metadata": {},
   "outputs": [],
   "source": []
  },
  {
   "cell_type": "code",
   "execution_count": null,
   "metadata": {},
   "outputs": [],
   "source": []
  },
  {
   "cell_type": "code",
   "execution_count": null,
   "metadata": {},
   "outputs": [],
   "source": []
  },
  {
   "cell_type": "code",
   "execution_count": null,
   "metadata": {},
   "outputs": [],
   "source": []
  }
 ],
 "metadata": {
  "kernelspec": {
   "display_name": "Python 3",
   "language": "python",
   "name": "python3"
  },
  "language_info": {
   "codemirror_mode": {
    "name": "ipython",
    "version": 3
   },
   "file_extension": ".py",
   "mimetype": "text/x-python",
   "name": "python",
   "nbconvert_exporter": "python",
   "pygments_lexer": "ipython3",
   "version": "3.8.5"
  }
 },
 "nbformat": 4,
 "nbformat_minor": 2
}
