{
 "cells": [
  {
   "cell_type": "markdown",
   "metadata": {},
   "source": [
    "# Descarga de datos del fichero de Indicadores de Seguimiento publicado por Ministerio de Sanidad"
   ]
  },
  {
   "cell_type": "markdown",
   "metadata": {},
   "source": [
    "## Objetivo"
   ]
  },
  {
   "cell_type": "markdown",
   "metadata": {},
   "source": [
    "Vamos a hacer una lectura de los datos publicados en el informe https://t.co/KOFUAhUynL?amp=1 publicado por Sanidad el 30 Noviembre:\n",
    "  \n",
    "Manuel H. Arias  \n",
    "[@walyt](https://twitter.com/walyt)  \n",
    "\n",
    "[#escovid19data](https://github.com/montera34/escovid19data)\n",
    "\n"
   ]
  },
  {
   "cell_type": "markdown",
   "metadata": {},
   "source": [
    "## Código"
   ]
  },
  {
   "cell_type": "markdown",
   "metadata": {},
   "source": [
    "Como siempre importamos las librerías con las que vamos a trabajar:"
   ]
  },
  {
   "cell_type": "code",
   "execution_count": 1,
   "metadata": {},
   "outputs": [],
   "source": [
    "import os.path as pth\n",
    "import datetime as dt\n",
    "import time\n",
    "from glob import glob\n",
    "import re\n",
    "import pandas as pd\n",
    "import numpy as np\n",
    "\n",
    "import requests\n",
    "from shutil import copyfile\n",
    "\n",
    "import matplotlib.pyplot as plt\n",
    "from matplotlib.ticker import FuncFormatter\n",
    "from matplotlib import cm\n",
    "import matplotlib.dates as mdates\n",
    "import matplotlib.ticker as ticker\n",
    "from matplotlib.dates import (YEARLY, MONTHLY, DateFormatter, WeekdayLocator, MonthLocator,DayLocator,\n",
    "                              rrulewrapper, RRuleLocator, drange)\n",
    "import seaborn as sns\n",
    "import matplotlib.colors as colors\n",
    "\n",
    "from pdfminer.pdfinterp import PDFResourceManager, PDFPageInterpreter\n",
    "from pdfminer.pdfpage import PDFPage\n",
    "from pdfminer.converter import TextConverter\n",
    "from pdfminer.layout import LAParams\n",
    "from io import StringIO\n",
    "\n",
    "\n",
    "import numpy as np\n",
    "from datetime import datetime,timedelta\n",
    "import seaborn as sns\n",
    "%matplotlib inline"
   ]
  },
  {
   "cell_type": "markdown",
   "metadata": {},
   "source": [
    "Definimos variables que nos ayuden en la gestión de los nombres de los ficheros, nombres de columnas e indices. "
   ]
  },
  {
   "cell_type": "code",
   "execution_count": 8,
   "metadata": {},
   "outputs": [],
   "source": [
    "datadir='pdf_ext/'\n",
    "URL_reg='https://saludextremadura.ses.es/filescms/web/uploaded_files/CasosPositivos/Datos%20Covid-19.pdf'"
   ]
  },
  {
   "cell_type": "code",
   "execution_count": 37,
   "metadata": {},
   "outputs": [],
   "source": [
    "conversion_mes={'ENERO':1,'FEBRERO':2,'MARZO':3,\n",
    "                'ABRIL':4,'MAYO':5,'JUNIO':6,\n",
    "                'JULIO':7,'AGOSTO':8,'SEPTIEMBRE':9,\n",
    "                'OCTUBRE':10,'NOVIEMBRE':11,'DICIEMBRE':12}"
   ]
  },
  {
   "cell_type": "code",
   "execution_count": 137,
   "metadata": {},
   "outputs": [],
   "source": [
    "#generamos un pandas vacío con esas columnas e indice tal que las zonas\n"
   ]
  },
  {
   "cell_type": "code",
   "execution_count": 138,
   "metadata": {},
   "outputs": [
    {
     "data": {
      "text/plain": [
       "(0, 0)"
      ]
     },
     "execution_count": 138,
     "metadata": {},
     "output_type": "execute_result"
    }
   ],
   "source": [
    "datos_pos.shape"
   ]
  },
  {
   "cell_type": "code",
   "execution_count": 161,
   "metadata": {},
   "outputs": [],
   "source": [
    "pueblos=['BADAJOZ',\n",
    "'JEREZ DE LOS CABALLEROS',\n",
    "'MONTIJO',\n",
    "'ZAHINOS', \n",
    "'OLIVENZA', \n",
    "'PUEBLONUEVO DEL GUADIANA',\n",
    "'PUEBLA DE OBANDO', \n",
    "'PARRA (LA)',\n",
    "'ALBUERA (LA)', \n",
    "'TALAVERA LA REAL', \n",
    "'TORRE DE MIGUEL SESMERO', \n",
    "'VALVERDE DE LEGANES', \n",
    "'ALCUESCAR', \n",
    "'CACERES', \n",
    "'TORREORGAZ', \n",
    "'CASAR DE CÁCERES', \n",
    "'CASAR DE CACERES', \n",
    "'LOGROSAN', \n",
    "'MIAJADAS', \n",
    "'VILLAMESIAS', \n",
    "'CUMBRE (LA)', \n",
    "'TRUJILLO',\n",
    "'JOLA', \n",
    "'CORIA', \n",
    "'CASTUERA', \n",
    "'MONTERRUBIO DE LA SERENA', \n",
    "'DON BENITO' ,\n",
    "'ORELLANA LA VIEJA', \n",
    "'SANTA AMALIA' ,\n",
    "'VILLANUEVA DE LA SERENA' ,\n",
    "'PUEBLA DEL MAESTRE' ,\n",
    "'ALCONERA',\n",
    "'VALENCIA DEL, VENTOSO',\n",
    "'ZAFRA' ,\n",
    "'ACEUCHAL', \n",
    "'ALMENDRALEJO',\n",
    "'ARROYO DE SAN SERVAN' ,\n",
    "'ESPARRAGALEJO' ,\n",
    "'MERIDA',\n",
    "'VALVERDE DE MERIDA',\n",
    "'MIRANDILLA',\n",
    "'VILLAFRANCA DE LOS BARROS' ,\n",
    "'PERALEDA DE SAN ROMAN',\n",
    "'JARANDILLA DE LA VERA',\n",
    "'LOSAR DE LA VERA',\n",
    "'ROBLEDILLO DE LA VERA',\n",
    "'BELVIS DE MONROY',\n",
    "'NAVALMORAL DE LA MATA',\n",
    "'PUEBLONUEVO DE MIRAMONTES',\n",
    "'TALAYUELA',\n",
    "'PASARON DE LA VERA',\n",
    "'PINOFRANQUEADO',\n",
    "'PLASENCIA',\n",
    "'TORREJON EL RUBIO']"
   ]
  },
  {
   "cell_type": "code",
   "execution_count": 162,
   "metadata": {},
   "outputs": [],
   "source": [
    "datos_pos=pd.DataFrame()"
   ]
  },
  {
   "cell_type": "code",
   "execution_count": 163,
   "metadata": {},
   "outputs": [],
   "source": [
    "datos_pos.loc[:,'pueblo']=pueblos"
   ]
  },
  {
   "cell_type": "code",
   "execution_count": 177,
   "metadata": {},
   "outputs": [],
   "source": [
    "historico=pd.read_csv(datadir+'positivos.csv',index_col=0)"
   ]
  },
  {
   "cell_type": "code",
   "execution_count": 179,
   "metadata": {},
   "outputs": [
    {
     "data": {
      "text/html": [
       "<div>\n",
       "<style scoped>\n",
       "    .dataframe tbody tr th:only-of-type {\n",
       "        vertical-align: middle;\n",
       "    }\n",
       "\n",
       "    .dataframe tbody tr th {\n",
       "        vertical-align: top;\n",
       "    }\n",
       "\n",
       "    .dataframe thead th {\n",
       "        text-align: right;\n",
       "    }\n",
       "</style>\n",
       "<table border=\"1\" class=\"dataframe\">\n",
       "  <thead>\n",
       "    <tr style=\"text-align: right;\">\n",
       "      <th></th>\n",
       "      <th>Fecha</th>\n",
       "      <th>pueblo</th>\n",
       "      <th>positivos</th>\n",
       "    </tr>\n",
       "  </thead>\n",
       "  <tbody>\n",
       "    <tr>\n",
       "      <th>0</th>\n",
       "      <td>04-12-2020</td>\n",
       "      <td>BADAJOZ</td>\n",
       "      <td>22</td>\n",
       "    </tr>\n",
       "    <tr>\n",
       "      <th>1</th>\n",
       "      <td>04-12-2020</td>\n",
       "      <td>JEREZ DE LOS CABALLEROS</td>\n",
       "      <td>2</td>\n",
       "    </tr>\n",
       "    <tr>\n",
       "      <th>2</th>\n",
       "      <td>04-12-2020</td>\n",
       "      <td>MONTIJO</td>\n",
       "      <td>6</td>\n",
       "    </tr>\n",
       "    <tr>\n",
       "      <th>3</th>\n",
       "      <td>04-12-2020</td>\n",
       "      <td>ZAHINOS</td>\n",
       "      <td>1</td>\n",
       "    </tr>\n",
       "    <tr>\n",
       "      <th>4</th>\n",
       "      <td>04-12-2020</td>\n",
       "      <td>OLIVENZA</td>\n",
       "      <td>1</td>\n",
       "    </tr>\n",
       "  </tbody>\n",
       "</table>\n",
       "</div>"
      ],
      "text/plain": [
       "        Fecha                   pueblo  positivos\n",
       "0  04-12-2020                  BADAJOZ         22\n",
       "1  04-12-2020  JEREZ DE LOS CABALLEROS          2\n",
       "2  04-12-2020                  MONTIJO          6\n",
       "3  04-12-2020                  ZAHINOS          1\n",
       "4  04-12-2020                 OLIVENZA          1"
      ]
     },
     "execution_count": 179,
     "metadata": {},
     "output_type": "execute_result"
    }
   ],
   "source": [
    "historico.head(5)"
   ]
  },
  {
   "cell_type": "markdown",
   "metadata": {},
   "source": [
    "### Función para descargar un fichero pdf"
   ]
  },
  {
   "cell_type": "markdown",
   "metadata": {},
   "source": [
    "Definimos a continuación una función para descargar el fichero pdf de web"
   ]
  },
  {
   "cell_type": "code",
   "execution_count": 11,
   "metadata": {},
   "outputs": [],
   "source": [
    "def descarga(url,guardarlo_como):\n",
    "    '''\n",
    "    Devuelve True si éxito descargando el pdf del link url, grabándolo como guardarlo_como\n",
    "    Parametros:\n",
    "        url: url del fichero a descargar\n",
    "        guardarlo_como : nombre del fichero a grabar, sin extensión.\n",
    "    '''\n",
    "    print('Descargando:', url)\n",
    "    nombre_a_guardar=datadir+guardarlo_como+'.pdf'\n",
    "    headers = {'User-Agent': 'Mozilla/5.0 (Macintosh; Intel Mac OS X 10_10_1) AppleWebKit/537.36 (KHTML, like Gecko) Chrome/39.0.2171.95 Safari/537.36'}\n",
    "    with requests.Session() as s:\n",
    "        r = s.get(url, headers=headers)\n",
    "    if r.status_code == requests.codes.ok:\n",
    "        with open(nombre_a_guardar, 'wb') as fp:\n",
    "                fp.write(r.content)\n",
    "                print('Guardándolo como:', nombre_a_guardar)\n",
    "                return True\n",
    "    else:\n",
    "        print ('Error con el ',nombre_a_guardar)\n",
    "        return False"
   ]
  },
  {
   "cell_type": "markdown",
   "metadata": {},
   "source": [
    " Vamos a llamar a los ficheros tal que su día de publicación en formato `%Y-%m-%d`, \"2020-12-05\" por ejemplo..."
   ]
  },
  {
   "cell_type": "code",
   "execution_count": 22,
   "metadata": {},
   "outputs": [],
   "source": [
    "un_dia=timedelta(days=1)\n",
    "hoy=datetime.today().strftime('%d-%m-%Y')\n",
    "#descargamos el del 30-11\n",
    "fecha_str='2020-11-30'"
   ]
  },
  {
   "cell_type": "code",
   "execution_count": 23,
   "metadata": {},
   "outputs": [
    {
     "name": "stdout",
     "output_type": "stream",
     "text": [
      "Descargando: https://saludextremadura.ses.es/filescms/web/uploaded_files/CasosPositivos/Datos%20Covid-19.pdf\n",
      "Guardándolo como: pdf_ext/05-12-2020.pdf\n"
     ]
    },
    {
     "data": {
      "text/plain": [
       "True"
      ]
     },
     "execution_count": 23,
     "metadata": {},
     "output_type": "execute_result"
    }
   ],
   "source": [
    "descarga(URL_reg,hoy)"
   ]
  },
  {
   "cell_type": "markdown",
   "metadata": {},
   "source": [
    "### Extraemos el texto de la pagina concreta del pdf"
   ]
  },
  {
   "cell_type": "code",
   "execution_count": 24,
   "metadata": {},
   "outputs": [],
   "source": [
    "# Extract PDF text using PDFMiner. Adapted from\n",
    "# http://stackoverflow.com/questions/5725278/python-help-using-pdfminer-as-a-library\n",
    "# codigo copiado del script de @alfonsotwr\n",
    "# desde \n",
    "def pdf_to_text(pdfname, pagenum=None):\n",
    "    '''\n",
    "    Devuelve el texto de la página pagenum extraído del pdf de path=pdfname\n",
    "    Parametros:\n",
    "        pdfname:pdf del fichero pdf\n",
    "        pagenum : página del fichero\n",
    "    '''\n",
    "    # PDFMiner boilerplate\n",
    "    rsrcmgr = PDFResourceManager()\n",
    "    sio = StringIO()\n",
    "    laparams = LAParams()\n",
    "    device = None\n",
    "    try:\n",
    "        device = TextConverter(rsrcmgr, sio, laparams=laparams)\n",
    "        interpreter = PDFPageInterpreter(rsrcmgr, device)\n",
    "\n",
    "        # Extract text\n",
    "        with open(pdfname, 'rb') as fp:\n",
    "            for i, page in enumerate(PDFPage.get_pages(fp)):\n",
    "                if pagenum is None or pagenum == i:\n",
    "                    interpreter.process_page(page)\n",
    "\n",
    "        # Get text from StringIO\n",
    "        text = sio.getvalue()\n",
    "    finally:\n",
    "        # Cleanup\n",
    "        sio.close()\n",
    "        if device is not None:\n",
    "            device.close()\n",
    "\n",
    "    return text"
   ]
  },
  {
   "cell_type": "markdown",
   "metadata": {},
   "source": [
    "Tras estudiar el formato de `text` hemos generado unas RegEx para leer las series de números: basicamente se compone de una cabezera (IA x 100.000....) seguida de una lista de 30 números ó `NA`.."
   ]
  },
  {
   "cell_type": "code",
   "execution_count": 25,
   "metadata": {},
   "outputs": [],
   "source": [
    "loc_pdf=datadir+hoy+'.pdf'\n",
    "#sacamos la tabla de la página 3, aprox la mitad de las zonas\n",
    "primera_pagina = pdf_to_text(loc_pdf, pagenum=0)  #con que pagina queremos trabajar?\n",
    "segunda_pagina = pdf_to_text(loc_pdf, pagenum=1)\n",
    "                         "
   ]
  },
  {
   "cell_type": "markdown",
   "metadata": {},
   "source": [
    "extraemos la fecha del documento"
   ]
  },
  {
   "cell_type": "code",
   "execution_count": 64,
   "metadata": {},
   "outputs": [
    {
     "name": "stdout",
     "output_type": "stream",
     "text": [
      "0 --> diciembre\n",
      "0 --> ('04', 'diciembre')\n",
      "0 --> 05 DE DICIEMBRE DE 2020\n",
      "0 --> ('CASOS POSITIVOS Y BROTES – ', '05 DE DICIEMBRE DE 2020', '05', 'DICIEMBRE', '2020')\n"
     ]
    }
   ],
   "source": [
    "#regex_fecha_publicacion='(CASOS POSITIVOS Y BROTES – )(\\d{1,2} DE (\\w)* DE \\d{4} )'\n",
    "regex_fecha_publicacion='(CASOS POSITIVOS Y BROTES – )((\\d{1,2}) DE (\\w*) DE (\\d{4}))'\n",
    "regex_fecha_casos='del día (\\d{2}) de (\\w*)'\n",
    "match_fecha_casos=re.search(re.compile(r'{}'.format(regex_fecha_casos)),primera_pagina)\n",
    "match_fecha_publicacion=re.search(re.compile(r'{}'.format(regex_fecha_publicacion)),primera_pagina)\n",
    "\n",
    "#datos=list(match.group(2).rstrip().lstrip().replace('\\n','').split(' '))\n",
    "    #eliminamos el primer elemento\n",
    "    #indicadores.loc[zonas[0]:zonas[len(datos)-1],columnas[i]]=datos\n",
    "print (0,'-->',match_fecha_casos.group(2))\n",
    "print (0,'-->',match_fecha_casos.groups()) \n",
    "print (0,'-->',match_fecha_publicacion.group(2))\n",
    "print (0,'-->',match_fecha_publicacion.groups()) \n",
    "fecha_casos=datetime(year=2020,\n",
    "                     month=conversion_mes[match_fecha_casos.groups()[1].upper()],\n",
    "                     day=int(match_fecha_casos.groups()[0]))\n",
    "fecha_publicacion=datetime(year=int(match_fecha_publicacion.groups()[4]),\n",
    "                               month=conversion_mes[match_fecha_publicacion.groups()[3]],\n",
    "                               day=int(match_fecha_publicacion.groups()[2]))\n",
    "nombre_columna=datetime.strftime(fecha_casos,'%d-%m-%Y')"
   ]
  },
  {
   "cell_type": "markdown",
   "metadata": {},
   "source": [
    " extraemos la primera lista de casos positivos, página nº 1"
   ]
  },
  {
   "cell_type": "code",
   "execution_count": 146,
   "metadata": {},
   "outputs": [
    {
     "name": "stdout",
     "output_type": "stream",
     "text": [
      "--> ['22', '2', '6', '1', '1', '2', '1', '1', '1', '3', '5', '1', '1', '18', '1', '2', '1', '1', '3', '1', '1', '2', '1', '3', '3', '1', '1', '2', '1', '12', '1', '2', '1', '1', '4', '12', '1', '2', '13', '1', '12', '1', '3', '2', '1']\n"
     ]
    }
   ],
   "source": [
    "regex_casos=['(CASOS \\+ )((\\n\\d* ){45})','(CASOS \\+ )((\\n\\d* ){9})']\n",
    "\n",
    "match=re.search(re.compile(r'{}'.format(regex_casos[0])),primera_pagina)\n",
    "datos1=list(match.group(2).rstrip().lstrip().replace('\\n','').split(' '))\n",
    "print ('-->',datos1)\n"
   ]
  },
  {
   "cell_type": "markdown",
   "metadata": {},
   "source": [
    " extraemos la segunda lista de casos positivos, página nº 2"
   ]
  },
  {
   "cell_type": "code",
   "execution_count": 147,
   "metadata": {
    "scrolled": true
   },
   "outputs": [
    {
     "name": "stdout",
     "output_type": "stream",
     "text": [
      "--> ['1', '1', '5', '2', '2', '1', '1', '11', '1']\n"
     ]
    }
   ],
   "source": [
    "match=re.search(re.compile(r'{}'.format(regex_casos[1])),segunda_pagina)\n",
    "datos2=list(match.group(2).rstrip().lstrip().replace('\\n','').split(' '))\n",
    "    #indicadores.loc[zonas[0]:zonas[len(datos)-1],columnas[i]]=datos\n",
    "print ('-->',datos2)"
   ]
  },
  {
   "cell_type": "code",
   "execution_count": 164,
   "metadata": {},
   "outputs": [],
   "source": [
    "datos_pos.loc[:,nombre_columna]=datos1+datos2"
   ]
  },
  {
   "cell_type": "code",
   "execution_count": 180,
   "metadata": {},
   "outputs": [
    {
     "data": {
      "text/html": [
       "<div>\n",
       "<style scoped>\n",
       "    .dataframe tbody tr th:only-of-type {\n",
       "        vertical-align: middle;\n",
       "    }\n",
       "\n",
       "    .dataframe tbody tr th {\n",
       "        vertical-align: top;\n",
       "    }\n",
       "\n",
       "    .dataframe thead th {\n",
       "        text-align: right;\n",
       "    }\n",
       "</style>\n",
       "<table border=\"1\" class=\"dataframe\">\n",
       "  <thead>\n",
       "    <tr style=\"text-align: right;\">\n",
       "      <th></th>\n",
       "      <th>pueblo</th>\n",
       "      <th>04-12-2020</th>\n",
       "    </tr>\n",
       "  </thead>\n",
       "  <tbody>\n",
       "    <tr>\n",
       "      <th>0</th>\n",
       "      <td>BADAJOZ</td>\n",
       "      <td>22</td>\n",
       "    </tr>\n",
       "    <tr>\n",
       "      <th>1</th>\n",
       "      <td>JEREZ DE LOS CABALLEROS</td>\n",
       "      <td>2</td>\n",
       "    </tr>\n",
       "    <tr>\n",
       "      <th>2</th>\n",
       "      <td>MONTIJO</td>\n",
       "      <td>6</td>\n",
       "    </tr>\n",
       "    <tr>\n",
       "      <th>3</th>\n",
       "      <td>ZAHINOS</td>\n",
       "      <td>1</td>\n",
       "    </tr>\n",
       "    <tr>\n",
       "      <th>4</th>\n",
       "      <td>OLIVENZA</td>\n",
       "      <td>1</td>\n",
       "    </tr>\n",
       "  </tbody>\n",
       "</table>\n",
       "</div>"
      ],
      "text/plain": [
       "                    pueblo 04-12-2020\n",
       "0                  BADAJOZ         22\n",
       "1  JEREZ DE LOS CABALLEROS          2\n",
       "2                  MONTIJO          6\n",
       "3                  ZAHINOS          1\n",
       "4                 OLIVENZA          1"
      ]
     },
     "execution_count": 180,
     "metadata": {},
     "output_type": "execute_result"
    }
   ],
   "source": [
    "datos_pos.head(5)"
   ]
  },
  {
   "cell_type": "code",
   "execution_count": 169,
   "metadata": {},
   "outputs": [],
   "source": [
    "datos_tabla=datos_pos.set_index('pueblo').unstack().reset_index()\n",
    "datos_tabla.columns=['Fecha','pueblo','positivos']"
   ]
  },
  {
   "cell_type": "code",
   "execution_count": 182,
   "metadata": {},
   "outputs": [
    {
     "data": {
      "text/html": [
       "<div>\n",
       "<style scoped>\n",
       "    .dataframe tbody tr th:only-of-type {\n",
       "        vertical-align: middle;\n",
       "    }\n",
       "\n",
       "    .dataframe tbody tr th {\n",
       "        vertical-align: top;\n",
       "    }\n",
       "\n",
       "    .dataframe thead th {\n",
       "        text-align: right;\n",
       "    }\n",
       "</style>\n",
       "<table border=\"1\" class=\"dataframe\">\n",
       "  <thead>\n",
       "    <tr style=\"text-align: right;\">\n",
       "      <th></th>\n",
       "      <th>Fecha</th>\n",
       "      <th>pueblo</th>\n",
       "      <th>positivos</th>\n",
       "    </tr>\n",
       "  </thead>\n",
       "  <tbody>\n",
       "    <tr>\n",
       "      <th>0</th>\n",
       "      <td>04-12-2020</td>\n",
       "      <td>BADAJOZ</td>\n",
       "      <td>22</td>\n",
       "    </tr>\n",
       "    <tr>\n",
       "      <th>1</th>\n",
       "      <td>04-12-2020</td>\n",
       "      <td>JEREZ DE LOS CABALLEROS</td>\n",
       "      <td>2</td>\n",
       "    </tr>\n",
       "    <tr>\n",
       "      <th>2</th>\n",
       "      <td>04-12-2020</td>\n",
       "      <td>MONTIJO</td>\n",
       "      <td>6</td>\n",
       "    </tr>\n",
       "    <tr>\n",
       "      <th>3</th>\n",
       "      <td>04-12-2020</td>\n",
       "      <td>ZAHINOS</td>\n",
       "      <td>1</td>\n",
       "    </tr>\n",
       "    <tr>\n",
       "      <th>4</th>\n",
       "      <td>04-12-2020</td>\n",
       "      <td>OLIVENZA</td>\n",
       "      <td>1</td>\n",
       "    </tr>\n",
       "    <tr>\n",
       "      <th>5</th>\n",
       "      <td>04-12-2020</td>\n",
       "      <td>PUEBLONUEVO DEL GUADIANA</td>\n",
       "      <td>2</td>\n",
       "    </tr>\n",
       "    <tr>\n",
       "      <th>6</th>\n",
       "      <td>04-12-2020</td>\n",
       "      <td>PUEBLA DE OBANDO</td>\n",
       "      <td>1</td>\n",
       "    </tr>\n",
       "    <tr>\n",
       "      <th>7</th>\n",
       "      <td>04-12-2020</td>\n",
       "      <td>PARRA (LA)</td>\n",
       "      <td>1</td>\n",
       "    </tr>\n",
       "    <tr>\n",
       "      <th>8</th>\n",
       "      <td>04-12-2020</td>\n",
       "      <td>ALBUERA (LA)</td>\n",
       "      <td>1</td>\n",
       "    </tr>\n",
       "    <tr>\n",
       "      <th>9</th>\n",
       "      <td>04-12-2020</td>\n",
       "      <td>TALAVERA LA REAL</td>\n",
       "      <td>3</td>\n",
       "    </tr>\n",
       "    <tr>\n",
       "      <th>10</th>\n",
       "      <td>04-12-2020</td>\n",
       "      <td>TORRE DE MIGUEL SESMERO</td>\n",
       "      <td>5</td>\n",
       "    </tr>\n",
       "    <tr>\n",
       "      <th>11</th>\n",
       "      <td>04-12-2020</td>\n",
       "      <td>VALVERDE DE LEGANES</td>\n",
       "      <td>1</td>\n",
       "    </tr>\n",
       "    <tr>\n",
       "      <th>12</th>\n",
       "      <td>04-12-2020</td>\n",
       "      <td>ALCUESCAR</td>\n",
       "      <td>1</td>\n",
       "    </tr>\n",
       "    <tr>\n",
       "      <th>13</th>\n",
       "      <td>04-12-2020</td>\n",
       "      <td>CACERES</td>\n",
       "      <td>18</td>\n",
       "    </tr>\n",
       "    <tr>\n",
       "      <th>14</th>\n",
       "      <td>04-12-2020</td>\n",
       "      <td>TORREORGAZ</td>\n",
       "      <td>1</td>\n",
       "    </tr>\n",
       "    <tr>\n",
       "      <th>15</th>\n",
       "      <td>04-12-2020</td>\n",
       "      <td>CASAR DE CÁCERES</td>\n",
       "      <td>2</td>\n",
       "    </tr>\n",
       "    <tr>\n",
       "      <th>16</th>\n",
       "      <td>04-12-2020</td>\n",
       "      <td>CASAR DE CACERES</td>\n",
       "      <td>1</td>\n",
       "    </tr>\n",
       "    <tr>\n",
       "      <th>17</th>\n",
       "      <td>04-12-2020</td>\n",
       "      <td>LOGROSAN</td>\n",
       "      <td>1</td>\n",
       "    </tr>\n",
       "    <tr>\n",
       "      <th>18</th>\n",
       "      <td>04-12-2020</td>\n",
       "      <td>MIAJADAS</td>\n",
       "      <td>3</td>\n",
       "    </tr>\n",
       "    <tr>\n",
       "      <th>19</th>\n",
       "      <td>04-12-2020</td>\n",
       "      <td>VILLAMESIAS</td>\n",
       "      <td>1</td>\n",
       "    </tr>\n",
       "  </tbody>\n",
       "</table>\n",
       "</div>"
      ],
      "text/plain": [
       "         Fecha                    pueblo positivos\n",
       "0   04-12-2020                   BADAJOZ        22\n",
       "1   04-12-2020   JEREZ DE LOS CABALLEROS         2\n",
       "2   04-12-2020                   MONTIJO         6\n",
       "3   04-12-2020                   ZAHINOS         1\n",
       "4   04-12-2020                  OLIVENZA         1\n",
       "5   04-12-2020  PUEBLONUEVO DEL GUADIANA         2\n",
       "6   04-12-2020          PUEBLA DE OBANDO         1\n",
       "7   04-12-2020                PARRA (LA)         1\n",
       "8   04-12-2020              ALBUERA (LA)         1\n",
       "9   04-12-2020          TALAVERA LA REAL         3\n",
       "10  04-12-2020   TORRE DE MIGUEL SESMERO         5\n",
       "11  04-12-2020       VALVERDE DE LEGANES         1\n",
       "12  04-12-2020                 ALCUESCAR         1\n",
       "13  04-12-2020                   CACERES        18\n",
       "14  04-12-2020                TORREORGAZ         1\n",
       "15  04-12-2020          CASAR DE CÁCERES         2\n",
       "16  04-12-2020          CASAR DE CACERES         1\n",
       "17  04-12-2020                  LOGROSAN         1\n",
       "18  04-12-2020                  MIAJADAS         3\n",
       "19  04-12-2020               VILLAMESIAS         1"
      ]
     },
     "execution_count": 182,
     "metadata": {},
     "output_type": "execute_result"
    }
   ],
   "source": [
    "datos_tabla.head(20)"
   ]
  },
  {
   "cell_type": "code",
   "execution_count": 173,
   "metadata": {},
   "outputs": [],
   "source": [
    "datos_tabla.to_csv(datadir+'positivos.csv')"
   ]
  },
  {
   "cell_type": "code",
   "execution_count": null,
   "metadata": {},
   "outputs": [],
   "source": []
  }
 ],
 "metadata": {
  "kernelspec": {
   "display_name": "Python 3",
   "language": "python",
   "name": "python3"
  },
  "language_info": {
   "codemirror_mode": {
    "name": "ipython",
    "version": 3
   },
   "file_extension": ".py",
   "mimetype": "text/x-python",
   "name": "python",
   "nbconvert_exporter": "python",
   "pygments_lexer": "ipython3",
   "version": "3.8.5"
  }
 },
 "nbformat": 4,
 "nbformat_minor": 4
}
